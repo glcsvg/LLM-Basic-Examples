{
 "cells": [
  {
   "cell_type": "code",
   "execution_count": 30,
   "metadata": {},
   "outputs": [],
   "source": [
    "import os\n",
    "from openai import OpenAI\n",
    "import json\n",
    "\n",
    "\n",
    "api_key = \"sk-proj-TTKUOiShoeid4amkQXnkT3BlbkFJuNv30RXFZduPHpghIKAG\"\n",
    "\n",
    "client = OpenAI(api_key=api_key)\n",
    "\n",
    "OPENAI_API_KEY = api_key"
   ]
  },
  {
   "cell_type": "code",
   "execution_count": 31,
   "metadata": {},
   "outputs": [],
   "source": [
    "from langchain_community.document_loaders import DirectoryLoader\n",
    "\n",
    "DATA_PATH = \"../kurs1/texts/\"\n",
    "\n",
    "def load_documnets():\n",
    "    loader = DirectoryLoader(DATA_PATH,glob=\"*.txt\")\n",
    "    documnets = loader.load()\n",
    "    return documnets\n"
   ]
  },
  {
   "cell_type": "code",
   "execution_count": 32,
   "metadata": {},
   "outputs": [],
   "source": [
    "from langchain.text_splitter import RecursiveCharacterTextSplitter\n",
    "from langchain.schema import Document\n",
    "from typing import List\n",
    "\n",
    "\n",
    "def split_text(documents: List[Document]):\n",
    "    text_splitter = RecursiveCharacterTextSplitter(\n",
    "        chunk_size=300,\n",
    "        chunk_overlap=100,\n",
    "        length_function=len,\n",
    "        add_start_index=True,\n",
    "    )\n",
    "    chunks = text_splitter.split_documents(documents)\n",
    "    print(f\"Split {len(documents)} documents into {len(chunks)} chunks.\")\n",
    "\n",
    "    document = chunks[10]\n",
    "    print(document.page_content)\n",
    "    print(document.metadata)\n",
    "\n",
    "    return chunks"
   ]
  },
  {
   "cell_type": "code",
   "execution_count": 33,
   "metadata": {},
   "outputs": [],
   "source": [
    "from langchain_community.vectorstores import Chroma\n",
    "\n"
   ]
  },
  {
   "cell_type": "code",
   "execution_count": 43,
   "metadata": {},
   "outputs": [],
   "source": [
    "CHROMA_PATH = os.path.join(os.getcwd(), \"chroma_db\")\n"
   ]
  },
  {
   "cell_type": "code",
   "execution_count": 44,
   "metadata": {},
   "outputs": [
    {
     "data": {
      "text/plain": [
       "'/home/dell/Desktop/my_folder/rag1/chroma_db'"
      ]
     },
     "execution_count": 44,
     "metadata": {},
     "output_type": "execute_result"
    }
   ],
   "source": [
    "CHROMA_PATH"
   ]
  },
  {
   "cell_type": "code",
   "execution_count": 48,
   "metadata": {},
   "outputs": [],
   "source": [
    "import shutil\n",
    "from langchain.embeddings import OpenAIEmbeddings\n",
    "\n",
    "\n",
    "def ensure_writable_directory(path):\n",
    "    \"\"\"Ensure the directory exists and is writable.\"\"\"\n",
    "    if not os.path.exists(path):\n",
    "        os.makedirs(path)\n",
    "    os.chmod(path, 0o777)  # Ensure the directory has write permissions\n",
    "\n",
    "# Step 2: Save the chunks to the Chroma database\n",
    "def save_to_chroma(chunks: List[Document]):\n",
    "\n",
    "    # ensure_writable_directory(CHROMA_PATH)\n",
    "    # # Clear out the database first.\n",
    "    if os.path.exists(CHROMA_PATH):\n",
    "        shutil.rmtree(CHROMA_PATH)\n",
    "        ensure_writable_directory(CHROMA_PATH)  # Recreate with proper permissions\n",
    "\n",
    "    # Create a new DB from the documents.\n",
    "    db = Chroma.from_documents(\n",
    "        chunks, OpenAIEmbeddings(api_key=api_key), persist_directory=CHROMA_PATH\n",
    "    )\n",
    "    db.persist()\n",
    "    print(f\"Saved {len(chunks)} chunks to {CHROMA_PATH}.\")\n",
    "\n",
    "# Step 3: Query the Chroma database\n",
    "def query_chroma(query: str):\n",
    "    db = Chroma(persist_directory=CHROMA_PATH)\n",
    "    results = db.query(query, OpenAIEmbeddings(api_key=api_key))\n",
    "    for result in results:\n",
    "        print(result['content'])\n",
    "        print(result['metadata'])"
   ]
  },
  {
   "cell_type": "code",
   "execution_count": null,
   "metadata": {},
   "outputs": [],
   "source": [
    "\n",
    "import chromadb\n",
    "\n",
    "chroma_client = chromadb.Client()\n",
    "# switch `create_collection` to `get_or_create_collection` to avoid creating a new collection every time\n",
    "collection = chroma_client.get_or_create_collection(name=\"my_collection\")\n",
    "# switch `add` to `upsert` to avoid adding the same documents every time\n",
    "collection.upsert(\n",
    "    documents=[\n",
    "        \"This is a document about pineapple\",\n",
    "        \"This is a document about oranges\"\n",
    "    ],\n",
    "    ids=[\"id1\", \"id2\"]\n",
    ")\n",
    "results = collection.query(\n",
    "    query_texts=[\"This is a query document about florida\"], # Chroma will embed this for you\n",
    "    n_results=2 # how many results to return\n",
    ")\n",
    "print(results)"
   ]
  },
  {
   "cell_type": "code",
   "execution_count": null,
   "metadata": {},
   "outputs": [],
   "source": [
    "# __import__('pysqlite3')\n",
    "# import pysqlite3\n",
    "# sys.modules['sqlite3'] = sys.modules[\"pysqlite3\"]"
   ]
  },
  {
   "cell_type": "code",
   "execution_count": 37,
   "metadata": {},
   "outputs": [],
   "source": [
    "from langchain_community.vectorstores import Chroma\n"
   ]
  },
  {
   "cell_type": "code",
   "execution_count": null,
   "metadata": {},
   "outputs": [],
   "source": [
    "documents = load_documnets()\n",
    "chunks = split_text(documents)"
   ]
  },
  {
   "cell_type": "code",
   "execution_count": 49,
   "metadata": {},
   "outputs": [],
   "source": [
    "import time\n",
    "\n",
    "def x(chunks):\n",
    "    collection_name=\"my\"\n",
    "    recreate_db = False\n",
    "    persist_directory = \"./chroma_db\"\n",
    "    t1_start = time.perf_counter()\n",
    "    if recreate_db:\n",
    "        vectorstore = Chroma.from_documents(\n",
    "            collection_name=collection_name, documents=chunks, embedding= OpenAIEmbeddings(api_key=api_key), persist_directory=persist_directory)\n",
    "        vectorstore.persist()\n",
    "    else:\n",
    "        vectorstore = Chroma(collection_name=collection_name, persist_directory=persist_directory, embedding_function= OpenAIEmbeddings(api_key=api_key))\n",
    "    t1_stop = time.perf_counter()  \n",
    "    print(\"elapsed time:\", t1_stop-t1_start)"
   ]
  },
  {
   "cell_type": "code",
   "execution_count": 50,
   "metadata": {},
   "outputs": [
    {
     "ename": "ValueError",
     "evalue": "Could not connect to tenant default_tenant. Are you sure it exists?",
     "output_type": "error",
     "traceback": [
      "\u001b[0;31m---------------------------------------------------------------------------\u001b[0m",
      "\u001b[0;31mOperationalError\u001b[0m                          Traceback (most recent call last)",
      "File \u001b[0;32m~/miniconda3/envs/env310/lib/python3.10/site-packages/chromadb/api/client.py:438\u001b[0m, in \u001b[0;36m_validate_tenant_database\u001b[0;34m(self, tenant, database)\u001b[0m\n",
      "File \u001b[0;32m~/miniconda3/envs/env310/lib/python3.10/site-packages/chromadb/api/client.py:486\u001b[0m, in \u001b[0;36mget_tenant\u001b[0;34m(self, name)\u001b[0m\n",
      "File \u001b[0;32m~/miniconda3/envs/env310/lib/python3.10/site-packages/chromadb/telemetry/opentelemetry/__init__.py:143\u001b[0m, in \u001b[0;36mtrace_method.<locals>.decorator.<locals>.wrapper\u001b[0;34m(*args, **kwargs)\u001b[0m\n\u001b[1;32m    142\u001b[0m \u001b[39mif\u001b[39;00m trace_granularity \u001b[39m<\u001b[39m granularity:\n\u001b[0;32m--> 143\u001b[0m     \u001b[39mreturn\u001b[39;00m f(\u001b[39m*\u001b[39;49margs, \u001b[39m*\u001b[39;49m\u001b[39m*\u001b[39;49mkwargs)\n\u001b[1;32m    144\u001b[0m \u001b[39mif\u001b[39;00m \u001b[39mnot\u001b[39;00m tracer:\n",
      "File \u001b[0;32m~/miniconda3/envs/env310/lib/python3.10/site-packages/chromadb/api/segment.py:146\u001b[0m, in \u001b[0;36mSegmentAPI.get_tenant\u001b[0;34m(self, name)\u001b[0m\n\u001b[1;32m    143\u001b[0m \u001b[39m@trace_method\u001b[39m(\u001b[39m\"\u001b[39m\u001b[39mSegmentAPI.get_tenant\u001b[39m\u001b[39m\"\u001b[39m, OpenTelemetryGranularity\u001b[39m.\u001b[39mOPERATION)\n\u001b[1;32m    144\u001b[0m \u001b[39m@override\u001b[39m\n\u001b[1;32m    145\u001b[0m \u001b[39mdef\u001b[39;00m \u001b[39mget_tenant\u001b[39m(\u001b[39mself\u001b[39m, name: \u001b[39mstr\u001b[39m) \u001b[39m-\u001b[39m\u001b[39m>\u001b[39m t\u001b[39m.\u001b[39mTenant:\n\u001b[0;32m--> 146\u001b[0m     \u001b[39mreturn\u001b[39;00m \u001b[39mself\u001b[39;49m\u001b[39m.\u001b[39;49m_sysdb\u001b[39m.\u001b[39;49mget_tenant(name\u001b[39m=\u001b[39;49mname)\n",
      "File \u001b[0;32m~/miniconda3/envs/env310/lib/python3.10/site-packages/chromadb/db/mixins/sysdb.py:132\u001b[0m, in \u001b[0;36mSqlSysDB.get_tenant\u001b[0;34m(self, name)\u001b[0m\n\u001b[1;32m    131\u001b[0m sql, params \u001b[39m=\u001b[39m get_sql(q, \u001b[39mself\u001b[39m\u001b[39m.\u001b[39mparameter_format())\n\u001b[0;32m--> 132\u001b[0m row \u001b[39m=\u001b[39m cur\u001b[39m.\u001b[39;49mexecute(sql, params)\u001b[39m.\u001b[39mfetchone()\n\u001b[1;32m    133\u001b[0m \u001b[39mif\u001b[39;00m \u001b[39mnot\u001b[39;00m row:\n",
      "\u001b[0;31mOperationalError\u001b[0m: no such table: tenants",
      "\nDuring handling of the above exception, another exception occurred:\n",
      "\u001b[0;31mValueError\u001b[0m                                Traceback (most recent call last)",
      "Cell \u001b[0;32mIn[50], line 1\u001b[0m\n\u001b[0;32m----> 1\u001b[0m x(chunks)\n",
      "Cell \u001b[0;32mIn[49], line 13\u001b[0m, in \u001b[0;36mx\u001b[0;34m(chunks)\u001b[0m\n\u001b[1;32m     11\u001b[0m     vectorstore\u001b[39m.\u001b[39mpersist()\n\u001b[1;32m     12\u001b[0m \u001b[39melse\u001b[39;00m:\n\u001b[0;32m---> 13\u001b[0m     vectorstore \u001b[39m=\u001b[39m Chroma(collection_name\u001b[39m=\u001b[39;49mcollection_name, persist_directory\u001b[39m=\u001b[39;49mpersist_directory, embedding_function\u001b[39m=\u001b[39;49m OpenAIEmbeddings(api_key\u001b[39m=\u001b[39;49mapi_key))\n\u001b[1;32m     14\u001b[0m t1_stop \u001b[39m=\u001b[39m time\u001b[39m.\u001b[39mperf_counter()  \n\u001b[1;32m     15\u001b[0m \u001b[39mprint\u001b[39m(\u001b[39m\"\u001b[39m\u001b[39melapsed time:\u001b[39m\u001b[39m\"\u001b[39m, t1_stop\u001b[39m-\u001b[39mt1_start)\n",
      "File \u001b[0;32m~/miniconda3/envs/env310/lib/python3.10/site-packages/langchain_community/vectorstores/chroma.py:121\u001b[0m, in \u001b[0;36mChroma.__init__\u001b[0;34m(self, collection_name, embedding_function, persist_directory, client_settings, collection_metadata, client, relevance_score_fn)\u001b[0m\n\u001b[1;32m    119\u001b[0m         _client_settings \u001b[39m=\u001b[39m chromadb\u001b[39m.\u001b[39mconfig\u001b[39m.\u001b[39mSettings()\n\u001b[1;32m    120\u001b[0m     \u001b[39mself\u001b[39m\u001b[39m.\u001b[39m_client_settings \u001b[39m=\u001b[39m _client_settings\n\u001b[0;32m--> 121\u001b[0m     \u001b[39mself\u001b[39m\u001b[39m.\u001b[39m_client \u001b[39m=\u001b[39m chromadb\u001b[39m.\u001b[39;49mClient(_client_settings)\n\u001b[1;32m    122\u001b[0m     \u001b[39mself\u001b[39m\u001b[39m.\u001b[39m_persist_directory \u001b[39m=\u001b[39m (\n\u001b[1;32m    123\u001b[0m         _client_settings\u001b[39m.\u001b[39mpersist_directory \u001b[39mor\u001b[39;00m persist_directory\n\u001b[1;32m    124\u001b[0m     )\n\u001b[1;32m    126\u001b[0m \u001b[39mself\u001b[39m\u001b[39m.\u001b[39m_embedding_function \u001b[39m=\u001b[39m embedding_function\n",
      "File \u001b[0;32m~/miniconda3/envs/env310/lib/python3.10/site-packages/chromadb/__init__.py:274\u001b[0m, in \u001b[0;36mClient\u001b[0;34m(settings, tenant, database)\u001b[0m\n\u001b[1;32m      0\u001b[0m <Error retrieving source code with stack_data see ipython/ipython#13598>\n",
      "File \u001b[0;32m~/miniconda3/envs/env310/lib/python3.10/site-packages/chromadb/api/client.py:144\u001b[0m, in \u001b[0;36m__init__\u001b[0;34m(self, tenant, database, settings)\u001b[0m\n",
      "File \u001b[0;32m~/miniconda3/envs/env310/lib/python3.10/site-packages/chromadb/api/client.py:447\u001b[0m, in \u001b[0;36m_validate_tenant_database\u001b[0;34m(self, tenant, database)\u001b[0m\n",
      "\u001b[0;31mValueError\u001b[0m: Could not connect to tenant default_tenant. Are you sure it exists?"
     ]
    }
   ],
   "source": [
    "x(chunks)"
   ]
  },
  {
   "cell_type": "code",
   "execution_count": 52,
   "metadata": {},
   "outputs": [
    {
     "ename": "OperationalError",
     "evalue": "attempt to write a readonly database",
     "output_type": "error",
     "traceback": [
      "\u001b[0;31m---------------------------------------------------------------------------\u001b[0m",
      "\u001b[0;31mOperationalError\u001b[0m                          Traceback (most recent call last)",
      "Cell \u001b[0;32mIn[52], line 1\u001b[0m\n\u001b[0;32m----> 1\u001b[0m save_to_chroma(chunks)\n",
      "Cell \u001b[0;32mIn[48], line 21\u001b[0m, in \u001b[0;36msave_to_chroma\u001b[0;34m(chunks)\u001b[0m\n\u001b[1;32m     18\u001b[0m     ensure_writable_directory(CHROMA_PATH)  \u001b[39m# Recreate with proper permissions\u001b[39;00m\n\u001b[1;32m     20\u001b[0m \u001b[39m# Create a new DB from the documents.\u001b[39;00m\n\u001b[0;32m---> 21\u001b[0m db \u001b[39m=\u001b[39m Chroma\u001b[39m.\u001b[39;49mfrom_documents(\n\u001b[1;32m     22\u001b[0m     chunks, OpenAIEmbeddings(api_key\u001b[39m=\u001b[39;49mapi_key), persist_directory\u001b[39m=\u001b[39;49mCHROMA_PATH\n\u001b[1;32m     23\u001b[0m )\n\u001b[1;32m     24\u001b[0m db\u001b[39m.\u001b[39mpersist()\n\u001b[1;32m     25\u001b[0m \u001b[39mprint\u001b[39m(\u001b[39mf\u001b[39m\u001b[39m\"\u001b[39m\u001b[39mSaved \u001b[39m\u001b[39m{\u001b[39;00m\u001b[39mlen\u001b[39m(chunks)\u001b[39m}\u001b[39;00m\u001b[39m chunks to \u001b[39m\u001b[39m{\u001b[39;00mCHROMA_PATH\u001b[39m}\u001b[39;00m\u001b[39m.\u001b[39m\u001b[39m\"\u001b[39m)\n",
      "File \u001b[0;32m~/miniconda3/envs/env310/lib/python3.10/site-packages/langchain_community/vectorstores/chroma.py:790\u001b[0m, in \u001b[0;36mChroma.from_documents\u001b[0;34m(cls, documents, embedding, ids, collection_name, persist_directory, client_settings, client, collection_metadata, **kwargs)\u001b[0m\n\u001b[1;32m    788\u001b[0m texts \u001b[39m=\u001b[39m [doc\u001b[39m.\u001b[39mpage_content \u001b[39mfor\u001b[39;00m doc \u001b[39min\u001b[39;00m documents]\n\u001b[1;32m    789\u001b[0m metadatas \u001b[39m=\u001b[39m [doc\u001b[39m.\u001b[39mmetadata \u001b[39mfor\u001b[39;00m doc \u001b[39min\u001b[39;00m documents]\n\u001b[0;32m--> 790\u001b[0m \u001b[39mreturn\u001b[39;00m \u001b[39mcls\u001b[39;49m\u001b[39m.\u001b[39;49mfrom_texts(\n\u001b[1;32m    791\u001b[0m     texts\u001b[39m=\u001b[39;49mtexts,\n\u001b[1;32m    792\u001b[0m     embedding\u001b[39m=\u001b[39;49membedding,\n\u001b[1;32m    793\u001b[0m     metadatas\u001b[39m=\u001b[39;49mmetadatas,\n\u001b[1;32m    794\u001b[0m     ids\u001b[39m=\u001b[39;49mids,\n\u001b[1;32m    795\u001b[0m     collection_name\u001b[39m=\u001b[39;49mcollection_name,\n\u001b[1;32m    796\u001b[0m     persist_directory\u001b[39m=\u001b[39;49mpersist_directory,\n\u001b[1;32m    797\u001b[0m     client_settings\u001b[39m=\u001b[39;49mclient_settings,\n\u001b[1;32m    798\u001b[0m     client\u001b[39m=\u001b[39;49mclient,\n\u001b[1;32m    799\u001b[0m     collection_metadata\u001b[39m=\u001b[39;49mcollection_metadata,\n\u001b[1;32m    800\u001b[0m     \u001b[39m*\u001b[39;49m\u001b[39m*\u001b[39;49mkwargs,\n\u001b[1;32m    801\u001b[0m )\n",
      "File \u001b[0;32m~/miniconda3/envs/env310/lib/python3.10/site-packages/langchain_community/vectorstores/chroma.py:748\u001b[0m, in \u001b[0;36mChroma.from_texts\u001b[0;34m(cls, texts, embedding, metadatas, ids, collection_name, persist_directory, client_settings, client, collection_metadata, **kwargs)\u001b[0m\n\u001b[1;32m    740\u001b[0m     \u001b[39mfrom\u001b[39;00m \u001b[39mchromadb\u001b[39;00m\u001b[39m.\u001b[39;00m\u001b[39mutils\u001b[39;00m\u001b[39m.\u001b[39;00m\u001b[39mbatch_utils\u001b[39;00m \u001b[39mimport\u001b[39;00m create_batches\n\u001b[1;32m    742\u001b[0m     \u001b[39mfor\u001b[39;00m batch \u001b[39min\u001b[39;00m create_batches(\n\u001b[1;32m    743\u001b[0m         api\u001b[39m=\u001b[39mchroma_collection\u001b[39m.\u001b[39m_client,\n\u001b[1;32m    744\u001b[0m         ids\u001b[39m=\u001b[39mids,\n\u001b[1;32m    745\u001b[0m         metadatas\u001b[39m=\u001b[39mmetadatas,\n\u001b[1;32m    746\u001b[0m         documents\u001b[39m=\u001b[39mtexts,\n\u001b[1;32m    747\u001b[0m     ):\n\u001b[0;32m--> 748\u001b[0m         chroma_collection\u001b[39m.\u001b[39;49madd_texts(\n\u001b[1;32m    749\u001b[0m             texts\u001b[39m=\u001b[39;49mbatch[\u001b[39m3\u001b[39;49m] \u001b[39mif\u001b[39;49;00m batch[\u001b[39m3\u001b[39;49m] \u001b[39melse\u001b[39;49;00m [],\n\u001b[1;32m    750\u001b[0m             metadatas\u001b[39m=\u001b[39;49mbatch[\u001b[39m2\u001b[39;49m] \u001b[39mif\u001b[39;49;00m batch[\u001b[39m2\u001b[39;49m] \u001b[39melse\u001b[39;49;00m \u001b[39mNone\u001b[39;49;00m,\n\u001b[1;32m    751\u001b[0m             ids\u001b[39m=\u001b[39;49mbatch[\u001b[39m0\u001b[39;49m],\n\u001b[1;32m    752\u001b[0m         )\n\u001b[1;32m    753\u001b[0m \u001b[39melse\u001b[39;00m:\n\u001b[1;32m    754\u001b[0m     chroma_collection\u001b[39m.\u001b[39madd_texts(texts\u001b[39m=\u001b[39mtexts, metadatas\u001b[39m=\u001b[39mmetadatas, ids\u001b[39m=\u001b[39mids)\n",
      "File \u001b[0;32m~/miniconda3/envs/env310/lib/python3.10/site-packages/langchain_community/vectorstores/chroma.py:298\u001b[0m, in \u001b[0;36mChroma.add_texts\u001b[0;34m(self, texts, metadatas, ids, **kwargs)\u001b[0m\n\u001b[1;32m    296\u001b[0m ids_with_metadata \u001b[39m=\u001b[39m [ids[idx] \u001b[39mfor\u001b[39;00m idx \u001b[39min\u001b[39;00m non_empty_ids]\n\u001b[1;32m    297\u001b[0m \u001b[39mtry\u001b[39;00m:\n\u001b[0;32m--> 298\u001b[0m     \u001b[39mself\u001b[39;49m\u001b[39m.\u001b[39;49m_collection\u001b[39m.\u001b[39;49mupsert(\n\u001b[1;32m    299\u001b[0m         metadatas\u001b[39m=\u001b[39;49mmetadatas,\n\u001b[1;32m    300\u001b[0m         embeddings\u001b[39m=\u001b[39;49membeddings_with_metadatas,\n\u001b[1;32m    301\u001b[0m         documents\u001b[39m=\u001b[39;49mtexts_with_metadatas,\n\u001b[1;32m    302\u001b[0m         ids\u001b[39m=\u001b[39;49mids_with_metadata,\n\u001b[1;32m    303\u001b[0m     )\n\u001b[1;32m    304\u001b[0m \u001b[39mexcept\u001b[39;00m \u001b[39mValueError\u001b[39;00m \u001b[39mas\u001b[39;00m e:\n\u001b[1;32m    305\u001b[0m     \u001b[39mif\u001b[39;00m \u001b[39m\"\u001b[39m\u001b[39mExpected metadata value to be\u001b[39m\u001b[39m\"\u001b[39m \u001b[39min\u001b[39;00m \u001b[39mstr\u001b[39m(e):\n",
      "File \u001b[0;32m~/miniconda3/envs/env310/lib/python3.10/site-packages/chromadb/api/models/Collection.py:487\u001b[0m, in \u001b[0;36mCollection.upsert\u001b[0;34m(self, ids, embeddings, metadatas, documents, images, uris)\u001b[0m\n\u001b[1;32m    484\u001b[0m     \u001b[39melse\u001b[39;00m:\n\u001b[1;32m    485\u001b[0m         embeddings \u001b[39m=\u001b[39m \u001b[39mself\u001b[39m\u001b[39m.\u001b[39m_embed(\u001b[39minput\u001b[39m\u001b[39m=\u001b[39mimages)\n\u001b[0;32m--> 487\u001b[0m \u001b[39mself\u001b[39;49m\u001b[39m.\u001b[39;49m_client\u001b[39m.\u001b[39;49m_upsert(\n\u001b[1;32m    488\u001b[0m     collection_id\u001b[39m=\u001b[39;49m\u001b[39mself\u001b[39;49m\u001b[39m.\u001b[39;49mid,\n\u001b[1;32m    489\u001b[0m     ids\u001b[39m=\u001b[39;49mids,\n\u001b[1;32m    490\u001b[0m     embeddings\u001b[39m=\u001b[39;49membeddings,\n\u001b[1;32m    491\u001b[0m     metadatas\u001b[39m=\u001b[39;49mmetadatas,\n\u001b[1;32m    492\u001b[0m     documents\u001b[39m=\u001b[39;49mdocuments,\n\u001b[1;32m    493\u001b[0m     uris\u001b[39m=\u001b[39;49muris,\n\u001b[1;32m    494\u001b[0m )\n",
      "File \u001b[0;32m~/miniconda3/envs/env310/lib/python3.10/site-packages/chromadb/telemetry/opentelemetry/__init__.py:143\u001b[0m, in \u001b[0;36mtrace_method.<locals>.decorator.<locals>.wrapper\u001b[0;34m(*args, **kwargs)\u001b[0m\n\u001b[1;32m    141\u001b[0m \u001b[39mglobal\u001b[39;00m tracer, granularity\n\u001b[1;32m    142\u001b[0m \u001b[39mif\u001b[39;00m trace_granularity \u001b[39m<\u001b[39m granularity:\n\u001b[0;32m--> 143\u001b[0m     \u001b[39mreturn\u001b[39;00m f(\u001b[39m*\u001b[39;49margs, \u001b[39m*\u001b[39;49m\u001b[39m*\u001b[39;49mkwargs)\n\u001b[1;32m    144\u001b[0m \u001b[39mif\u001b[39;00m \u001b[39mnot\u001b[39;00m tracer:\n\u001b[1;32m    145\u001b[0m     \u001b[39mreturn\u001b[39;00m f(\u001b[39m*\u001b[39margs, \u001b[39m*\u001b[39m\u001b[39m*\u001b[39mkwargs)\n",
      "File \u001b[0;32m~/miniconda3/envs/env310/lib/python3.10/site-packages/chromadb/api/segment.py:472\u001b[0m, in \u001b[0;36mSegmentAPI._upsert\u001b[0;34m(self, collection_id, ids, embeddings, metadatas, documents, uris)\u001b[0m\n\u001b[1;32m    463\u001b[0m records_to_submit \u001b[39m=\u001b[39m []\n\u001b[1;32m    464\u001b[0m \u001b[39mfor\u001b[39;00m r \u001b[39min\u001b[39;00m _records(\n\u001b[1;32m    465\u001b[0m     t\u001b[39m.\u001b[39mOperation\u001b[39m.\u001b[39mUPSERT,\n\u001b[1;32m    466\u001b[0m     ids\u001b[39m=\u001b[39mids,\n\u001b[0;32m   (...)\u001b[0m\n\u001b[1;32m    470\u001b[0m     uris\u001b[39m=\u001b[39muris,\n\u001b[1;32m    471\u001b[0m ):\n\u001b[0;32m--> 472\u001b[0m     \u001b[39mself\u001b[39;49m\u001b[39m.\u001b[39;49m_validate_embedding_record(coll, r)\n\u001b[1;32m    473\u001b[0m     records_to_submit\u001b[39m.\u001b[39mappend(r)\n\u001b[1;32m    474\u001b[0m \u001b[39mself\u001b[39m\u001b[39m.\u001b[39m_producer\u001b[39m.\u001b[39msubmit_embeddings(collection_id, records_to_submit)\n",
      "File \u001b[0;32m~/miniconda3/envs/env310/lib/python3.10/site-packages/chromadb/telemetry/opentelemetry/__init__.py:143\u001b[0m, in \u001b[0;36mtrace_method.<locals>.decorator.<locals>.wrapper\u001b[0;34m(*args, **kwargs)\u001b[0m\n\u001b[1;32m    141\u001b[0m \u001b[39mglobal\u001b[39;00m tracer, granularity\n\u001b[1;32m    142\u001b[0m \u001b[39mif\u001b[39;00m trace_granularity \u001b[39m<\u001b[39m granularity:\n\u001b[0;32m--> 143\u001b[0m     \u001b[39mreturn\u001b[39;00m f(\u001b[39m*\u001b[39;49margs, \u001b[39m*\u001b[39;49m\u001b[39m*\u001b[39;49mkwargs)\n\u001b[1;32m    144\u001b[0m \u001b[39mif\u001b[39;00m \u001b[39mnot\u001b[39;00m tracer:\n\u001b[1;32m    145\u001b[0m     \u001b[39mreturn\u001b[39;00m f(\u001b[39m*\u001b[39margs, \u001b[39m*\u001b[39m\u001b[39m*\u001b[39mkwargs)\n",
      "File \u001b[0;32m~/miniconda3/envs/env310/lib/python3.10/site-packages/chromadb/api/segment.py:810\u001b[0m, in \u001b[0;36mSegmentAPI._validate_embedding_record\u001b[0;34m(self, collection, record)\u001b[0m\n\u001b[1;32m    808\u001b[0m add_attributes_to_current_span({\u001b[39m\"\u001b[39m\u001b[39mcollection_id\u001b[39m\u001b[39m\"\u001b[39m: \u001b[39mstr\u001b[39m(collection[\u001b[39m\"\u001b[39m\u001b[39mid\u001b[39m\u001b[39m\"\u001b[39m])})\n\u001b[1;32m    809\u001b[0m \u001b[39mif\u001b[39;00m record[\u001b[39m\"\u001b[39m\u001b[39membedding\u001b[39m\u001b[39m\"\u001b[39m]:\n\u001b[0;32m--> 810\u001b[0m     \u001b[39mself\u001b[39;49m\u001b[39m.\u001b[39;49m_validate_dimension(collection, \u001b[39mlen\u001b[39;49m(record[\u001b[39m\"\u001b[39;49m\u001b[39membedding\u001b[39;49m\u001b[39m\"\u001b[39;49m]), update\u001b[39m=\u001b[39;49m\u001b[39mTrue\u001b[39;49;00m)\n",
      "File \u001b[0;32m~/miniconda3/envs/env310/lib/python3.10/site-packages/chromadb/telemetry/opentelemetry/__init__.py:143\u001b[0m, in \u001b[0;36mtrace_method.<locals>.decorator.<locals>.wrapper\u001b[0;34m(*args, **kwargs)\u001b[0m\n\u001b[1;32m    141\u001b[0m \u001b[39mglobal\u001b[39;00m tracer, granularity\n\u001b[1;32m    142\u001b[0m \u001b[39mif\u001b[39;00m trace_granularity \u001b[39m<\u001b[39m granularity:\n\u001b[0;32m--> 143\u001b[0m     \u001b[39mreturn\u001b[39;00m f(\u001b[39m*\u001b[39;49margs, \u001b[39m*\u001b[39;49m\u001b[39m*\u001b[39;49mkwargs)\n\u001b[1;32m    144\u001b[0m \u001b[39mif\u001b[39;00m \u001b[39mnot\u001b[39;00m tracer:\n\u001b[1;32m    145\u001b[0m     \u001b[39mreturn\u001b[39;00m f(\u001b[39m*\u001b[39margs, \u001b[39m*\u001b[39m\u001b[39m*\u001b[39mkwargs)\n",
      "File \u001b[0;32m~/miniconda3/envs/env310/lib/python3.10/site-packages/chromadb/api/segment.py:822\u001b[0m, in \u001b[0;36mSegmentAPI._validate_dimension\u001b[0;34m(self, collection, dim, update)\u001b[0m\n\u001b[1;32m    820\u001b[0m     \u001b[39mif\u001b[39;00m update:\n\u001b[1;32m    821\u001b[0m         \u001b[39mid\u001b[39m \u001b[39m=\u001b[39m collection[\u001b[39m\"\u001b[39m\u001b[39mid\u001b[39m\u001b[39m\"\u001b[39m]\n\u001b[0;32m--> 822\u001b[0m         \u001b[39mself\u001b[39;49m\u001b[39m.\u001b[39;49m_sysdb\u001b[39m.\u001b[39;49mupdate_collection(\u001b[39mid\u001b[39;49m\u001b[39m=\u001b[39;49m\u001b[39mid\u001b[39;49m, dimension\u001b[39m=\u001b[39;49mdim)\n\u001b[1;32m    823\u001b[0m         \u001b[39mself\u001b[39m\u001b[39m.\u001b[39m_collection_cache[\u001b[39mid\u001b[39m][\u001b[39m\"\u001b[39m\u001b[39mdimension\u001b[39m\u001b[39m\"\u001b[39m] \u001b[39m=\u001b[39m dim\n\u001b[1;32m    824\u001b[0m \u001b[39melif\u001b[39;00m collection[\u001b[39m\"\u001b[39m\u001b[39mdimension\u001b[39m\u001b[39m\"\u001b[39m] \u001b[39m!=\u001b[39m dim:\n",
      "File \u001b[0;32m~/miniconda3/envs/env310/lib/python3.10/site-packages/chromadb/telemetry/opentelemetry/__init__.py:143\u001b[0m, in \u001b[0;36mtrace_method.<locals>.decorator.<locals>.wrapper\u001b[0;34m(*args, **kwargs)\u001b[0m\n\u001b[1;32m    141\u001b[0m \u001b[39mglobal\u001b[39;00m tracer, granularity\n\u001b[1;32m    142\u001b[0m \u001b[39mif\u001b[39;00m trace_granularity \u001b[39m<\u001b[39m granularity:\n\u001b[0;32m--> 143\u001b[0m     \u001b[39mreturn\u001b[39;00m f(\u001b[39m*\u001b[39;49margs, \u001b[39m*\u001b[39;49m\u001b[39m*\u001b[39;49mkwargs)\n\u001b[1;32m    144\u001b[0m \u001b[39mif\u001b[39;00m \u001b[39mnot\u001b[39;00m tracer:\n\u001b[1;32m    145\u001b[0m     \u001b[39mreturn\u001b[39;00m f(\u001b[39m*\u001b[39margs, \u001b[39m*\u001b[39m\u001b[39m*\u001b[39mkwargs)\n",
      "File \u001b[0;32m~/miniconda3/envs/env310/lib/python3.10/site-packages/chromadb/db/mixins/sysdb.py:596\u001b[0m, in \u001b[0;36mSqlSysDB.update_collection\u001b[0;34m(self, id, name, dimension, metadata)\u001b[0m\n\u001b[1;32m    594\u001b[0m \u001b[39mif\u001b[39;00m sql:  \u001b[39m# pypika emits a blank string if nothing to do\u001b[39;00m\n\u001b[1;32m    595\u001b[0m     sql \u001b[39m=\u001b[39m sql \u001b[39m+\u001b[39m \u001b[39m\"\u001b[39m\u001b[39m RETURNING id\u001b[39m\u001b[39m\"\u001b[39m\n\u001b[0;32m--> 596\u001b[0m     result \u001b[39m=\u001b[39m cur\u001b[39m.\u001b[39;49mexecute(sql, params)\n\u001b[1;32m    597\u001b[0m     \u001b[39mif\u001b[39;00m \u001b[39mnot\u001b[39;00m result\u001b[39m.\u001b[39mfetchone():\n\u001b[1;32m    598\u001b[0m         \u001b[39mraise\u001b[39;00m NotFoundError(\u001b[39mf\u001b[39m\u001b[39m\"\u001b[39m\u001b[39mCollection \u001b[39m\u001b[39m{\u001b[39;00m\u001b[39mid\u001b[39m\u001b[39m}\u001b[39;00m\u001b[39m not found\u001b[39m\u001b[39m\"\u001b[39m)\n",
      "\u001b[0;31mOperationalError\u001b[0m: attempt to write a readonly database"
     ]
    }
   ],
   "source": [
    "\n",
    "save_to_chroma(chunks)\n"
   ]
  },
  {
   "cell_type": "code",
   "execution_count": null,
   "metadata": {},
   "outputs": [],
   "source": [
    "\n",
    "# Query the database\n",
    "query = \"your search query\"\n",
    "query_chroma(query)"
   ]
  },
  {
   "cell_type": "code",
   "execution_count": 55,
   "metadata": {},
   "outputs": [
    {
     "name": "stderr",
     "output_type": "stream",
     "text": [
      "DEBUG:httpx:load_ssl_context verify=True cert=None trust_env=True http2=False\n",
      "DEBUG:httpx:load_verify_locations cafile='/home/dell/miniconda3/envs/env310/lib/python3.10/site-packages/certifi/cacert.pem'\n",
      "DEBUG:httpx:load_ssl_context verify=True cert=None trust_env=True http2=False\n",
      "DEBUG:httpx:load_verify_locations cafile='/home/dell/miniconda3/envs/env310/lib/python3.10/site-packages/certifi/cacert.pem'\n"
     ]
    },
    {
     "ename": "ValueError",
     "evalue": "An instance of Chroma already exists for ephemeral with different settings",
     "output_type": "error",
     "traceback": [
      "\u001b[0;31m---------------------------------------------------------------------------\u001b[0m",
      "\u001b[0;31mValueError\u001b[0m                                Traceback (most recent call last)",
      "Cell \u001b[0;32mIn[55], line 63\u001b[0m\n\u001b[1;32m     59\u001b[0m     query_chromadb()\n\u001b[1;32m     62\u001b[0m \u001b[39mif\u001b[39;00m \u001b[39m__name__\u001b[39m \u001b[39m==\u001b[39m \u001b[39m'\u001b[39m\u001b[39m__main__\u001b[39m\u001b[39m'\u001b[39m:\n\u001b[0;32m---> 63\u001b[0m     main()\n",
      "Cell \u001b[0;32mIn[55], line 59\u001b[0m, in \u001b[0;36mmain\u001b[0;34m()\u001b[0m\n\u001b[1;32m     57\u001b[0m \u001b[39mdef\u001b[39;00m \u001b[39mmain\u001b[39m():\n\u001b[1;32m     58\u001b[0m     \u001b[39m# init_chromadb()\u001b[39;00m\n\u001b[0;32m---> 59\u001b[0m     query_chromadb()\n",
      "Cell \u001b[0;32mIn[55], line 47\u001b[0m, in \u001b[0;36mquery_chromadb\u001b[0;34m()\u001b[0m\n\u001b[1;32m     39\u001b[0m client_settings \u001b[39m=\u001b[39m chromadb\u001b[39m.\u001b[39mconfig\u001b[39m.\u001b[39mSettings(\n\u001b[1;32m     40\u001b[0m     chroma_db_impl\u001b[39m=\u001b[39m\u001b[39m\"\u001b[39m\u001b[39mduckdb+parquet\u001b[39m\u001b[39m\"\u001b[39m,\n\u001b[1;32m     41\u001b[0m     persist_directory\u001b[39m=\u001b[39mDB_DIR,\n\u001b[1;32m     42\u001b[0m     anonymized_telemetry\u001b[39m=\u001b[39m\u001b[39mFalse\u001b[39;00m\n\u001b[1;32m     43\u001b[0m )\n\u001b[1;32m     45\u001b[0m embeddings \u001b[39m=\u001b[39m OpenAIEmbeddings(api_key\u001b[39m=\u001b[39mapi_key)\n\u001b[0;32m---> 47\u001b[0m vectorstore \u001b[39m=\u001b[39m Chroma(\n\u001b[1;32m     48\u001b[0m     collection_name\u001b[39m=\u001b[39;49m\u001b[39m\"\u001b[39;49m\u001b[39mlangchain_store\u001b[39;49m\u001b[39m\"\u001b[39;49m,\n\u001b[1;32m     49\u001b[0m     embedding_function\u001b[39m=\u001b[39;49membeddings,\n\u001b[1;32m     50\u001b[0m     client_settings\u001b[39m=\u001b[39;49mclient_settings,\n\u001b[1;32m     51\u001b[0m     persist_directory\u001b[39m=\u001b[39;49mDB_DIR,\n\u001b[1;32m     52\u001b[0m )\n\u001b[1;32m     53\u001b[0m result \u001b[39m=\u001b[39m vectorstore\u001b[39m.\u001b[39msimilarity_search_with_score(query\u001b[39m=\u001b[39m\u001b[39m\"\u001b[39m\u001b[39mFREDERICK\u001b[39m\u001b[39m\"\u001b[39m, k\u001b[39m=\u001b[39m\u001b[39m4\u001b[39m)\n\u001b[1;32m     54\u001b[0m \u001b[39mprint\u001b[39m(result)\n",
      "File \u001b[0;32m~/miniconda3/envs/env310/lib/python3.10/site-packages/langchain_community/vectorstores/chroma.py:121\u001b[0m, in \u001b[0;36mChroma.__init__\u001b[0;34m(self, collection_name, embedding_function, persist_directory, client_settings, collection_metadata, client, relevance_score_fn)\u001b[0m\n\u001b[1;32m    119\u001b[0m         _client_settings \u001b[39m=\u001b[39m chromadb\u001b[39m.\u001b[39mconfig\u001b[39m.\u001b[39mSettings()\n\u001b[1;32m    120\u001b[0m     \u001b[39mself\u001b[39m\u001b[39m.\u001b[39m_client_settings \u001b[39m=\u001b[39m _client_settings\n\u001b[0;32m--> 121\u001b[0m     \u001b[39mself\u001b[39m\u001b[39m.\u001b[39m_client \u001b[39m=\u001b[39m chromadb\u001b[39m.\u001b[39;49mClient(_client_settings)\n\u001b[1;32m    122\u001b[0m     \u001b[39mself\u001b[39m\u001b[39m.\u001b[39m_persist_directory \u001b[39m=\u001b[39m (\n\u001b[1;32m    123\u001b[0m         _client_settings\u001b[39m.\u001b[39mpersist_directory \u001b[39mor\u001b[39;00m persist_directory\n\u001b[1;32m    124\u001b[0m     )\n\u001b[1;32m    126\u001b[0m \u001b[39mself\u001b[39m\u001b[39m.\u001b[39m_embedding_function \u001b[39m=\u001b[39m embedding_function\n",
      "File \u001b[0;32m~/miniconda3/envs/env310/lib/python3.10/site-packages/chromadb/__init__.py:274\u001b[0m, in \u001b[0;36mClient\u001b[0;34m(settings, tenant, database)\u001b[0m\n\u001b[1;32m      0\u001b[0m <Error retrieving source code with stack_data see ipython/ipython#13598>\n",
      "File \u001b[0;32m~/miniconda3/envs/env310/lib/python3.10/site-packages/chromadb/api/client.py:139\u001b[0m, in \u001b[0;36m__init__\u001b[0;34m(self, tenant, database, settings)\u001b[0m\n",
      "File \u001b[0;32m~/miniconda3/envs/env310/lib/python3.10/site-packages/chromadb/api/client.py:43\u001b[0m, in \u001b[0;36m__init__\u001b[0;34m(self, settings)\u001b[0m\n",
      "File \u001b[0;32m~/miniconda3/envs/env310/lib/python3.10/site-packages/chromadb/api/client.py:62\u001b[0m, in \u001b[0;36m_create_system_if_not_exists\u001b[0;34m(cls, identifier, settings)\u001b[0m\n",
      "\u001b[0;31mValueError\u001b[0m: An instance of Chroma already exists for ephemeral with different settings"
     ]
    }
   ],
   "source": [
    "import logging\n",
    "import os\n",
    "\n",
    "import chromadb\n",
    "from langchain.document_loaders import PyPDFLoader\n",
    "from langchain.embeddings import OpenAIEmbeddings\n",
    "from langchain.vectorstores import Chroma\n",
    "\n",
    "\n",
    "\n",
    "DB_DIR = os.path.join(os.getcwd(), \"db\")\n",
    "\n",
    "def load_documnets():\n",
    "    loader = DirectoryLoader(DATA_PATH,glob=\"*.txt\")\n",
    "    documnets = loader.load()\n",
    "    return documnets\n",
    "\n",
    "\n",
    "def init_chromadb():\n",
    "    client_settings = chromadb.config.Settings(\n",
    "        chroma_db_impl=\"duckdb+parquet\",\n",
    "        persist_directory=DB_DIR,\n",
    "        anonymized_telemetry=False\n",
    "    )\n",
    "    embeddings = OpenAIEmbeddings()\n",
    "\n",
    "    vectorstore = Chroma(\n",
    "        collection_name=\"langchain_store\",\n",
    "        embedding_function=embeddings,\n",
    "        client_settings=client_settings,\n",
    "        persist_directory=DB_DIR,\n",
    "    )\n",
    "\n",
    "    vectorstore.add_documents(documents=load_documnets(), embedding=embeddings)\n",
    "    vectorstore.persist()\n",
    "\n",
    "\n",
    "def query_chromadb():\n",
    "    client_settings = chromadb.config.Settings(\n",
    "        chroma_db_impl=\"duckdb+parquet\",\n",
    "        persist_directory=DB_DIR,\n",
    "        anonymized_telemetry=False\n",
    "    )\n",
    "\n",
    "    embeddings = OpenAIEmbeddings(api_key=api_key)\n",
    "\n",
    "    vectorstore = Chroma(\n",
    "        collection_name=\"langchain_store\",\n",
    "        embedding_function=embeddings,\n",
    "        client_settings=client_settings,\n",
    "        persist_directory=DB_DIR,\n",
    "    )\n",
    "    result = vectorstore.similarity_search_with_score(query=\"FREDERICK\", k=4)\n",
    "    print(result)\n",
    "\n",
    "\n",
    "def main():\n",
    "    # init_chromadb()\n",
    "    query_chromadb()\n",
    "\n",
    "\n",
    "if __name__ == '__main__':\n",
    "    main()"
   ]
  }
 ],
 "metadata": {
  "kernelspec": {
   "display_name": "env310",
   "language": "python",
   "name": "python3"
  },
  "language_info": {
   "codemirror_mode": {
    "name": "ipython",
    "version": 3
   },
   "file_extension": ".py",
   "mimetype": "text/x-python",
   "name": "python",
   "nbconvert_exporter": "python",
   "pygments_lexer": "ipython3",
   "version": "3.10.14 (main, May  6 2024, 19:42:50) [GCC 11.2.0]"
  },
  "orig_nbformat": 4,
  "vscode": {
   "interpreter": {
    "hash": "c8bf0730dbbd78d714cca92b22d430def971c1cff7f7962aa82cedae5060f925"
   }
  }
 },
 "nbformat": 4,
 "nbformat_minor": 2
}
