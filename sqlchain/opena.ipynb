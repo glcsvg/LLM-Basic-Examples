{
 "cells": [
  {
   "cell_type": "code",
   "execution_count": 1,
   "metadata": {},
   "outputs": [],
   "source": [
    "import os\n",
    "import openai\n",
    "import warnings\n",
    "from langchain import OpenAI, SQLDatabase\n",
    "from langchain.sql_database import SQLDatabase\n",
    "from langchain_experimental.sql import SQLDatabaseChain\n",
    "import toml\n",
    "import os \n",
    "import ast\n",
    "\n",
    "\n",
    "warnings.filterwarnings(\"ignore\")"
   ]
  },
  {
   "cell_type": "code",
   "execution_count": 2,
   "metadata": {},
   "outputs": [],
   "source": [
    "config = toml.load(\"config.toml\")\n",
    "api_key = config[\"openai\"][\"api_key\"]\n",
    "os.environ[\"OPENAI_API_KEY\"] = api_key\n",
    "openai.api_key = os.getenv(\"OPENAI_API_KEY\")"
   ]
  },
  {
   "cell_type": "code",
   "execution_count": 3,
   "metadata": {},
   "outputs": [],
   "source": [
    "sqlite_db_path = \"Spotify.db\"\n",
    "db = SQLDatabase.from_uri(f\"sqlite:///{sqlite_db_path}\")"
   ]
  },
  {
   "cell_type": "code",
   "execution_count": 4,
   "metadata": {},
   "outputs": [],
   "source": [
    "llm = OpenAI(temperature=0)"
   ]
  },
  {
   "cell_type": "code",
   "execution_count": 5,
   "metadata": {},
   "outputs": [],
   "source": [
    "db_chain = SQLDatabaseChain.from_llm(llm, db, verbose=True)"
   ]
  },
  {
   "cell_type": "code",
   "execution_count": 7,
   "metadata": {},
   "outputs": [
    {
     "name": "stdout",
     "output_type": "stream",
     "text": [
      "\n",
      "\n",
      "\u001b[1m> Entering new SQLDatabaseChain chain...\u001b[0m\n",
      "How many kinds of musics are there?\n",
      "SQLQuery:\u001b[32;1m\u001b[1;3mSELECT COUNT(DISTINCT track_genre) FROM musics\u001b[0m\n",
      "SQLResult: \u001b[33;1m\u001b[1;3m[(114,)]\u001b[0m\n",
      "Answer:\u001b[32;1m\u001b[1;3mThere are 114 kinds of musics.\u001b[0m\n",
      "\u001b[1m> Finished chain.\u001b[0m\n"
     ]
    }
   ],
   "source": [
    "result = db_chain.run(\"How many kinds of musics are there?\")"
   ]
  },
  {
   "cell_type": "code",
   "execution_count": 8,
   "metadata": {},
   "outputs": [
    {
     "data": {
      "text/plain": [
       "'There are 114 kinds of musics.'"
      ]
     },
     "execution_count": 8,
     "metadata": {},
     "output_type": "execute_result"
    }
   ],
   "source": [
    "result"
   ]
  },
  {
   "cell_type": "code",
   "execution_count": 10,
   "metadata": {},
   "outputs": [
    {
     "name": "stdout",
     "output_type": "stream",
     "text": [
      "\n",
      "\n",
      "\u001b[1m> Entering new SQLDatabaseChain chain...\u001b[0m\n",
      "How many salary are there?\n",
      "SQLQuery:\u001b[32;1m\u001b[1;3mSELECT COUNT(*) FROM musics\u001b[0m\n",
      "SQLResult: \u001b[33;1m\u001b[1;3m[(114000,)]\u001b[0m\n",
      "Answer:\u001b[32;1m\u001b[1;3m114000\u001b[0m\n",
      "\u001b[1m> Finished chain.\u001b[0m\n"
     ]
    }
   ],
   "source": [
    "db_chain = SQLDatabaseChain.from_llm(llm, db, verbose=True, use_query_checker=True)\n",
    "result = db_chain.run(\"How many salary are there?\")\n"
   ]
  },
  {
   "cell_type": "code",
   "execution_count": 5,
   "metadata": {},
   "outputs": [],
   "source": [
    "from langchain.prompts.prompt import PromptTemplate\n",
    "\n",
    "_DEFAULT_TEMPLATE = \"\"\"Given an input question, first create a syntactically correct {dialect} query to run, then look at the results of the query and return the answer.\n",
    "Use the following format:\n",
    "\n",
    "Question: \"Question here\"\n",
    "SQLQuery: \"SQL Query to run\"\n",
    "SQLResult: \"Result of the SQLQuery\"\n",
    "Answer: \"Final answer here\"\n",
    "\n",
    "Only use the following tables:\n",
    "{table_info}\n",
    "\n",
    "If table not exist return \"null\"\n",
    "\n",
    "Question: {input}\"\"\"\n",
    "PROMPT = PromptTemplate(\n",
    "    input_variables=[\"input\", \"table_info\", \"dialect\"], template=_DEFAULT_TEMPLATE)"
   ]
  },
  {
   "cell_type": "code",
   "execution_count": 8,
   "metadata": {},
   "outputs": [
    {
     "name": "stdout",
     "output_type": "stream",
     "text": [
      "\n",
      "\n",
      "\u001b[1m> Entering new SQLDatabaseChain chain...\u001b[0m\n",
      " kitap tablosunda kaç farklı sanatçı var ?\n",
      "SQLQuery:\u001b[32;1m\u001b[1;3mSELECT COUNT(DISTINCT artists) FROM musics\u001b[0m\n",
      "SQLResult: \u001b[33;1m\u001b[1;3m[(31437,)]\u001b[0m\n",
      "Answer:\u001b[32;1m\u001b[1;3m31437\u001b[0m\n",
      "\u001b[1m> Finished chain.\u001b[0m\n"
     ]
    }
   ],
   "source": [
    "db_chain = SQLDatabaseChain.from_llm(llm, db, prompt=PROMPT, verbose=True, use_query_checker=True)\n",
    "result = db_chain.run(\"kitap tablosunda kaç farklı sanatçı var ?\")\n"
   ]
  },
  {
   "cell_type": "code",
   "execution_count": 26,
   "metadata": {},
   "outputs": [],
   "source": [
    "PROMPT = PromptTemplate(\n",
    "    input_variables=[\"input\", \"table_info\", \"dialect\"], template=_DEFAULT_TEMPLATE)\n"
   ]
  },
  {
   "cell_type": "code",
   "execution_count": 14,
   "metadata": {},
   "outputs": [],
   "source": [
    "def table_exists(table_name, db):\n",
    "    # Mevcut tablo adlarını al\n",
    "    existing_tables = db.run(\"SELECT name FROM sqlite_master WHERE type='table';\")\n",
    "    table_list = ast.literal_eval(existing_tables)\n",
    "    # Tablo adı listede mi kontrol et\n",
    "    table_names = [table[0] for table in table_list]\n",
    "    print(\"Table names list:\", table_names)\n",
    "    \n",
    "    # Tam eşleşme kontrolü\n",
    "    return table_name in table_names\n",
    "\n",
    "def column_exists(table_name, column_name, db):\n",
    "    # Mevcut tablo adlarını kontrol et\n",
    "    if not table_exists(table_name, db):\n",
    "        return False\n",
    "    \n",
    "    # Belirtilen tablonun kolon adlarını al\n",
    "    column_info = db.run(f\"PRAGMA table_info({table_name});\")\n",
    "    print(f\"Column info for table {table_name}:\", column_info)\n",
    "    \n",
    "    # Gelen string'i değerlendirerek tuple listesini oluşturma\n",
    "    column_list = ast.literal_eval(column_info)\n",
    "    \n",
    "    # Kolon adı listede mi kontrol et\n",
    "    column_names = [column[1] for column in column_list]  # İkinci indeks kolon adını tutar\n",
    "    print(\"Column names list:\", column_names)\n",
    "    \n",
    "    # Tam eşleşme kontrolü\n",
    "    return column_name in column_names\n",
    "\n",
    "db_chain = SQLDatabaseChain.from_llm(llm, db, prompt=PROMPT, verbose=True, use_query_checker=True)\n"
   ]
  },
  {
   "cell_type": "code",
   "execution_count": 16,
   "metadata": {},
   "outputs": [
    {
     "data": {
      "text/plain": [
       "SQLDatabaseChain(verbose=True, llm_chain=LLMChain(prompt=PromptTemplate(input_variables=['dialect', 'input', 'table_info'], template='Given an input question, first create a syntactically correct {dialect} query to run, then look at the results of the query and return the answer.\\nUse the following format:\\n\\nQuestion: \"Question here\"\\nSQLQuery: \"SQL Query to run\"\\nSQLResult: \"Result of the SQLQuery\"\\nAnswer: \"Final answer here\"\\n\\nOnly use the following tables:\\n{table_info}\\n\\nIf table not exist return \"null\"\\n\\nQuestion: {input}'), llm=OpenAI(client=<openai.resources.completions.Completions object at 0x7fe0201c04f0>, async_client=<openai.resources.completions.AsyncCompletions object at 0x7fdffaa09460>, temperature=0.0, openai_api_key='sk-proj-fNrYR9Otfk3LoNAhjW8UT3BlbkFJxHayU6zlR9FCVhhHW1z3', openai_proxy='')), database=<langchain_community.utilities.sql_database.SQLDatabase object at 0x7fdffaa98700>, use_query_checker=True)"
      ]
     },
     "execution_count": 16,
     "metadata": {},
     "output_type": "execute_result"
    }
   ],
   "source": [
    "db_chain"
   ]
  },
  {
   "cell_type": "code",
   "execution_count": null,
   "metadata": {},
   "outputs": [],
   "source": [
    "# Sorguyu çalıştırma fonksiyonu\n",
    "def run_query_with_check(query, db_chain, db):\n",
    "    # Sorudan tablo adını çıkar\n",
    "    print(query)\n",
    "    import re\n",
    "    table_name = re.search(r\"FROM (\\w+)\", query)\n",
    "    print(\"table name\",table_name)\n",
    "    if table_name:\n",
    "        table_name = table_name.group(1)\n",
    "    else:\n",
    "        return \"Invalid query format.\"\n",
    "\n",
    "    # Tablo var mı kontrol et\n",
    "    if not table_exists(table_name, db):\n",
    "        return \"Wrong table name\"\n",
    "    \n",
    "    # Tablo varsa sorguyu çalıştır\n",
    "    return db_chain.run(query)\n"
   ]
  },
  {
   "cell_type": "code",
   "execution_count": 15,
   "metadata": {},
   "outputs": [
    {
     "name": "stdout",
     "output_type": "stream",
     "text": [
      "kaç farklı sanatçı var ?\n",
      "table name None\n"
     ]
    },
    {
     "data": {
      "text/plain": [
       "'Invalid query format.'"
      ]
     },
     "execution_count": 15,
     "metadata": {},
     "output_type": "execute_result"
    }
   ],
   "source": [
    "query = \"kaç farklı sanatçı var ?\"\n",
    "result = run_query_with_check(query, db_chain, db)\n",
    "result"
   ]
  },
  {
   "cell_type": "code",
   "execution_count": null,
   "metadata": {},
   "outputs": [],
   "source": []
  }
 ],
 "metadata": {
  "kernelspec": {
   "display_name": "aa",
   "language": "python",
   "name": "python3"
  },
  "language_info": {
   "codemirror_mode": {
    "name": "ipython",
    "version": 3
   },
   "file_extension": ".py",
   "mimetype": "text/x-python",
   "name": "python",
   "nbconvert_exporter": "python",
   "pygments_lexer": "ipython3",
   "version": "3.8.2 (default, Mar 25 2020, 17:03:02) \n[GCC 7.3.0]"
  },
  "orig_nbformat": 4,
  "vscode": {
   "interpreter": {
    "hash": "1e68f48f757f27e07250b73c6151e4820dd2d9b0a7c4f853122bf96447b625da"
   }
  }
 },
 "nbformat": 4,
 "nbformat_minor": 2
}
