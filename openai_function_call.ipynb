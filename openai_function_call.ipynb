{
 "cells": [
  {
   "cell_type": "code",
   "execution_count": 1,
   "metadata": {},
   "outputs": [],
   "source": [
    "from typing import List\n",
    "from pydantic import BaseModel, Field\n",
    "import os"
   ]
  },
  {
   "cell_type": "code",
   "execution_count": 27,
   "metadata": {},
   "outputs": [],
   "source": [
    "import os\n",
    "import openai\n",
    "\n",
    "os.environ['OPENAI_API_KEY']= 'sk-proj'"
   ]
  },
  {
   "cell_type": "code",
   "execution_count": 11,
   "metadata": {},
   "outputs": [],
   "source": [
    "class pUser(BaseModel):\n",
    "    name: str\n",
    "    age: int\n",
    "    email: str"
   ]
  },
  {
   "cell_type": "code",
   "execution_count": 12,
   "metadata": {},
   "outputs": [
    {
     "data": {
      "text/plain": [
       "'Jane'"
      ]
     },
     "execution_count": 12,
     "metadata": {},
     "output_type": "execute_result"
    }
   ],
   "source": [
    "foo_p = pUser(name=\"Jane\", age=32, email=\"jane@gmail.com\")\n",
    "foo_p.name"
   ]
  },
  {
   "cell_type": "code",
   "execution_count": 13,
   "metadata": {},
   "outputs": [
    {
     "data": {
      "text/plain": [
       "StudentList(students=[pUser(name='Jane', age=32, email='jane@gmail.com')])"
      ]
     },
     "execution_count": 13,
     "metadata": {},
     "output_type": "execute_result"
    }
   ],
   "source": [
    "class StudentList(BaseModel):\n",
    "    students: List[pUser]\n",
    "\n",
    "obj = StudentList(\n",
    "    students=[pUser(name=\"Jane\", age=32, email=\"jane@gmail.com\")]\n",
    ")\n",
    "obj"
   ]
  },
  {
   "cell_type": "code",
   "execution_count": 48,
   "metadata": {},
   "outputs": [],
   "source": [
    "class AuthorSearch(BaseModel):\n",
    "    \"Call by name to find the author of the book\"\n",
    "    name: str = Field(description=\"Author name to search for the book\")"
   ]
  },
  {
   "cell_type": "code",
   "execution_count": 49,
   "metadata": {},
   "outputs": [],
   "source": [
    "from langchain.utils.openai_functions import convert_pydantic_to_openai_function"
   ]
  },
  {
   "cell_type": "code",
   "execution_count": 50,
   "metadata": {},
   "outputs": [
    {
     "data": {
      "text/plain": [
       "{'name': 'AuthorSearch',\n",
       " 'description': 'Call by name to find the author of the book',\n",
       " 'parameters': {'properties': {'name': {'description': 'Author name to search for the book',\n",
       "    'type': 'string'}},\n",
       "  'required': ['name'],\n",
       "  'type': 'object'}}"
      ]
     },
     "execution_count": 50,
     "metadata": {},
     "output_type": "execute_result"
    }
   ],
   "source": [
    "booksearch_function = convert_pydantic_to_openai_function(AuthorSearch)\n",
    "booksearch_function"
   ]
  },
  {
   "cell_type": "code",
   "execution_count": 44,
   "metadata": {},
   "outputs": [
    {
     "data": {
      "text/plain": [
       "{'name': 'AuthorSearch1',\n",
       " 'description': '',\n",
       " 'parameters': {'properties': {'name': {'description': 'author name to  book name for',\n",
       "    'type': 'string'}},\n",
       "  'required': ['name'],\n",
       "  'type': 'object'}}"
      ]
     },
     "execution_count": 44,
     "metadata": {},
     "output_type": "execute_result"
    }
   ],
   "source": [
    "class AuthorSearch1(BaseModel):\n",
    "    name: str = Field(description=\"author name to  book name for\")\n",
    "\n",
    "convert_pydantic_to_openai_function(AuthorSearch1)"
   ]
  },
  {
   "cell_type": "code",
   "execution_count": 20,
   "metadata": {},
   "outputs": [
    {
     "data": {
      "text/plain": [
       "{'name': 'AuthorSearch2',\n",
       " 'description': 'Call this with an book name to get the author  that book',\n",
       " 'parameters': {'properties': {'name': {'type': 'string'}},\n",
       "  'required': ['name'],\n",
       "  'type': 'object'}}"
      ]
     },
     "execution_count": 20,
     "metadata": {},
     "output_type": "execute_result"
    }
   ],
   "source": [
    "class AuthorSearch2(BaseModel):\n",
    "    \"\"\"Call this with an book name to get the author  that book\"\"\"\n",
    "    name: str \n",
    "\n",
    "convert_pydantic_to_openai_function(AuthorSearch2)"
   ]
  },
  {
   "cell_type": "code",
   "execution_count": 21,
   "metadata": {},
   "outputs": [],
   "source": [
    "from langchain.chat_models import ChatOpenAI"
   ]
  },
  {
   "cell_type": "code",
   "execution_count": 39,
   "metadata": {},
   "outputs": [],
   "source": [
    "model = ChatOpenAI()"
   ]
  },
  {
   "cell_type": "code",
   "execution_count": 51,
   "metadata": {},
   "outputs": [
    {
     "data": {
      "text/plain": [
       "AIMessage(content='', additional_kwargs={'function_call': {'arguments': '{\"name\":\"Jane Eyre\"}', 'name': 'AuthorSearch'}}, response_metadata={'token_usage': {'completion_tokens': 16, 'prompt_tokens': 65, 'total_tokens': 81}, 'model_name': 'gpt-3.5-turbo', 'system_fingerprint': None, 'finish_reason': 'function_call', 'logprobs': None}, id='run-31f49873-58d4-4407-95d2-e574fb7c1676-0')"
      ]
     },
     "execution_count": 51,
     "metadata": {},
     "output_type": "execute_result"
    }
   ],
   "source": [
    "model.invoke(\"I love Jane Eyre book\", functions=[booksearch_function])"
   ]
  },
  {
   "cell_type": "code",
   "execution_count": 30,
   "metadata": {},
   "outputs": [],
   "source": [
    "model_with_function = model.bind(functions=[booksearch_function])"
   ]
  },
  {
   "cell_type": "code",
   "execution_count": 31,
   "metadata": {},
   "outputs": [
    {
     "data": {
      "text/plain": [
       "AIMessage(content='', additional_kwargs={'function_call': {'arguments': '{\"name\":\"Jane Eyre\"}', 'name': 'AuthorSearch'}}, response_metadata={'token_usage': {'completion_tokens': 16, 'prompt_tokens': 67, 'total_tokens': 83}, 'model_name': 'gpt-3.5-turbo', 'system_fingerprint': None, 'finish_reason': 'function_call', 'logprobs': None}, id='run-2cbb9cf5-72d3-4545-8359-c3de4dd8f136-0')"
      ]
     },
     "execution_count": 31,
     "metadata": {},
     "output_type": "execute_result"
    }
   ],
   "source": [
    "model_with_function.invoke(\"I love Jane Eyre\")"
   ]
  },
  {
   "cell_type": "code",
   "execution_count": 32,
   "metadata": {},
   "outputs": [],
   "source": [
    "model_with_forced_function = model.bind(functions=[booksearch_function], function_call={\"name\":\"AuthorSearch\"})"
   ]
  },
  {
   "cell_type": "code",
   "execution_count": 33,
   "metadata": {},
   "outputs": [
    {
     "data": {
      "text/plain": [
       "AIMessage(content='', additional_kwargs={'function_call': {'arguments': '{\"name\":\"Jane Eyre\"}', 'name': 'AuthorSearch'}}, response_metadata={'token_usage': {'completion_tokens': 7, 'prompt_tokens': 76, 'total_tokens': 83}, 'model_name': 'gpt-3.5-turbo', 'system_fingerprint': None, 'finish_reason': 'stop', 'logprobs': None}, id='run-1c9f74be-c3fa-4ce3-8ad3-444051b269cb-0')"
      ]
     },
     "execution_count": 33,
     "metadata": {},
     "output_type": "execute_result"
    }
   ],
   "source": [
    "model_with_forced_function.invoke(\"I love Jane Eyre\")"
   ]
  },
  {
   "cell_type": "code",
   "execution_count": 34,
   "metadata": {},
   "outputs": [
    {
     "data": {
      "text/plain": [
       "AIMessage(content='', additional_kwargs={'function_call': {'arguments': '{\"name\":\"hi\"}', 'name': 'AuthorSearch'}}, response_metadata={'token_usage': {'completion_tokens': 5, 'prompt_tokens': 73, 'total_tokens': 78}, 'model_name': 'gpt-3.5-turbo', 'system_fingerprint': None, 'finish_reason': 'stop', 'logprobs': None}, id='run-152c286f-66a7-420b-a61b-8b81b41a19be-0')"
      ]
     },
     "execution_count": 34,
     "metadata": {},
     "output_type": "execute_result"
    }
   ],
   "source": [
    "model_with_forced_function.invoke(\"hi!\")"
   ]
  },
  {
   "cell_type": "code",
   "execution_count": null,
   "metadata": {},
   "outputs": [],
   "source": [
    "\n",
    "from langchain.utils.openai_functions import convert_pydantic_to_openai_function\n",
    "from langchain.chat_models import ChatOpenAI\n",
    "\n",
    "class WeatherSearch(BaseModel):\n",
    "    \"\"\"Call this with an airport code to get the weather at that airport\"\"\"\n",
    "    airport_code: str = Field(description=\"airport code to get weather for\")\n",
    "\n",
    "\n",
    "weather_function = convert_pydantic_to_openai_function(WeatherSearch)\n",
    "model = ChatOpenAI()\n",
    "model.invoke(\"what is the weather in SF today?\", functions=[weather_function])"
   ]
  },
  {
   "cell_type": "code",
   "execution_count": 53,
   "metadata": {},
   "outputs": [
    {
     "name": "stdout",
     "output_type": "stream",
     "text": [
      "content='' additional_kwargs={'function_call': {'arguments': '{\"book_title\":\"Jane Eyre\"}', 'name': 'AuthorSearch'}} response_metadata={'token_usage': {'completion_tokens': 17, 'prompt_tokens': 67, 'total_tokens': 84}, 'model_name': 'gpt-3.5-turbo', 'system_fingerprint': None, 'finish_reason': 'function_call', 'logprobs': None} id='run-1431fb5b-cac2-41c9-a405-e54b5bfbacfa-0'\n"
     ]
    }
   ],
   "source": [
    "from pydantic import BaseModel, Field\n",
    "import openai\n",
    "\n",
    "# Assume convert_pydantic_to_openai_function is imported correctly from langchain.utils.openai_functions\n",
    "\n",
    "# Define the Pydantic model for author search\n",
    "class AuthorSearch(BaseModel):\n",
    "    \"\"\"Call by book title to find the author of the book\"\"\"\n",
    "    book_title: str = Field(description=\"Book title to search for the author\")\n",
    "\n",
    "# Convert the Pydantic model to OpenAI function format\n",
    "author_function = convert_pydantic_to_openai_function(AuthorSearch)\n",
    "\n",
    "# Example usage with ChatOpenAI model (assuming ChatOpenAI is correctly imported)\n",
    "model = ChatOpenAI()\n",
    "\n",
    "\n",
    "# Example query\n",
    "input_query = \"Who wrote Jane Eyre?\"\n",
    "\n",
    "# Invoke the model with the author function and input query\n",
    "response = model.invoke(input_query, functions=[author_function])\n",
    "\n",
    "# Print the response\n",
    "print(response)"
   ]
  },
  {
   "cell_type": "code",
   "execution_count": null,
   "metadata": {},
   "outputs": [],
   "source": []
  }
 ],
 "metadata": {
  "kernelspec": {
   "display_name": "fastestenv",
   "language": "python",
   "name": "python3"
  },
  "language_info": {
   "codemirror_mode": {
    "name": "ipython",
    "version": 3
   },
   "file_extension": ".py",
   "mimetype": "text/x-python",
   "name": "python",
   "nbconvert_exporter": "python",
   "pygments_lexer": "ipython3",
   "version": "3.8.10"
  }
 },
 "nbformat": 4,
 "nbformat_minor": 2
}
