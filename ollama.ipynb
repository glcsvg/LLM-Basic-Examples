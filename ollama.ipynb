{
 "cells": [
  {
   "cell_type": "code",
   "execution_count": 1,
   "metadata": {},
   "outputs": [],
   "source": [
    "from langchain_community.llms import Ollama\n",
    "llm = Ollama(model=\"llama3\")"
   ]
  },
  {
   "cell_type": "code",
   "execution_count": 7,
   "metadata": {},
   "outputs": [],
   "source": [
    "import time"
   ]
  },
  {
   "cell_type": "code",
   "execution_count": 4,
   "metadata": {},
   "outputs": [],
   "source": [
    "from langchain_community.llms import Ollama\n",
    "llm = Ollama(model=\"llama3\")"
   ]
  },
  {
   "cell_type": "code",
   "execution_count": 8,
   "metadata": {},
   "outputs": [
    {
     "name": "stdout",
     "output_type": "stream",
     "text": [
      "What a profound and age-old question!\n",
      "\n",
      "The meaning of life is a topic that has puzzled philosophers, theologians, scientists, and scholars for centuries. There is no one definitive answer, as it is a highly subjective and personal inquiry. However, I'll provide some insights and perspectives to spark your thinking.\n",
      "\n",
      "**Philosophical perspectives:**\n",
      "\n",
      "1. **Existentialism:** Life has no inherent meaning; we create our own through choices and experiences.\n",
      "2. **Humanism:** The pursuit of happiness, fulfillment, and personal growth gives life its meaning.\n",
      "3. **Absolutism:** There is a higher power or universal truth that provides the meaning of life.\n",
      "\n",
      "**Scientific perspectives:**\n",
      "\n",
      "1. **Evolutionary theory:** Life's purpose is to perpetuate species survival and adaptation.\n",
      "2. **Biological perspective:** The meaning of life lies in the pursuit of self-preservation, reproduction, and genetic success.\n",
      "3. **Cosmological perspective:** The universe's origins and evolution provide a broader context for understanding life's meaning.\n",
      "\n",
      "**Spiritual perspectives:**\n",
      "\n",
      "1. **Religious beliefs:** Many religions believe that life has a higher purpose or divine plan, which can be fulfilled through faith, worship, or service to others.\n",
      "2. **Mystical perspectives:** Life is an expression of the universe's inherent energy and consciousness, seeking balance and harmony.\n",
      "\n",
      "**Practical perspectives:**\n",
      "\n",
      "1. **Personal fulfillment:** The pursuit of happiness, self-actualization, and personal growth gives life its meaning.\n",
      "2. **Relationships:** Meaning can arise from connections with others, community, and a sense of belonging.\n",
      "3. **Purpose-driven work:** Many people find meaning in their work or contributions to society.\n",
      "\n",
      "**Conclusion:**\n",
      "\n",
      "The meaning of life is a complex, multifaceted concept that can be approached from various angles. While there may not be a single, definitive answer, it's essential to explore and reflect on what gives your life its significance. Whether through personal fulfillment, relationships, purpose-driven work, or spiritual pursuits, the meaning of life is ultimately a subjective experience.\n",
      "\n",
      "What do you think? What gives your life its meaning?\n"
     ]
    },
    {
     "ename": "AttributeError",
     "evalue": "'float' object has no attribute 'time'",
     "output_type": "error",
     "traceback": [
      "\u001b[0;31m---------------------------------------------------------------------------\u001b[0m",
      "\u001b[0;31mAttributeError\u001b[0m                            Traceback (most recent call last)",
      "Cell \u001b[0;32mIn[8], line 5\u001b[0m\n\u001b[1;32m      3\u001b[0m response \u001b[38;5;241m=\u001b[39m llm\u001b[38;5;241m.\u001b[39minvoke(\u001b[38;5;124m\"\u001b[39m\u001b[38;5;124mWhat is the meaning of life?\u001b[39m\u001b[38;5;124m\"\u001b[39m)\n\u001b[1;32m      4\u001b[0m \u001b[38;5;28mprint\u001b[39m(response)\n\u001b[0;32m----> 5\u001b[0m \u001b[38;5;28mprint\u001b[39m(\u001b[38;5;124m\"\u001b[39m\u001b[38;5;124mtime:\u001b[39m\u001b[38;5;124m\"\u001b[39m,\u001b[43mtime\u001b[49m\u001b[38;5;241;43m.\u001b[39;49m\u001b[43mtime\u001b[49m()\u001b[38;5;241m-\u001b[39mtime)\n",
      "\u001b[0;31mAttributeError\u001b[0m: 'float' object has no attribute 'time'"
     ]
    }
   ],
   "source": [
    "llm = Ollama(model=\"llama3\")\n",
    "time = time.time()\n",
    "response = llm.invoke(\"What is the meaning of life?\")\n",
    "print(response)\n",
    "print(\"time:\",time.time()-time)"
   ]
  }
 ],
 "metadata": {
  "kernelspec": {
   "display_name": "aa",
   "language": "python",
   "name": "python3"
  },
  "language_info": {
   "codemirror_mode": {
    "name": "ipython",
    "version": 3
   },
   "file_extension": ".py",
   "mimetype": "text/x-python",
   "name": "python",
   "nbconvert_exporter": "python",
   "pygments_lexer": "ipython3",
   "version": "3.8.2 (default, Mar 25 2020, 17:03:02) \n[GCC 7.3.0]"
  },
  "vscode": {
   "interpreter": {
    "hash": "1e68f48f757f27e07250b73c6151e4820dd2d9b0a7c4f853122bf96447b625da"
   }
  }
 },
 "nbformat": 4,
 "nbformat_minor": 4
}
