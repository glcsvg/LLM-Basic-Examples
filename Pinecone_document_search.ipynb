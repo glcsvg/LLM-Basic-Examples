{
  "nbformat": 4,
  "nbformat_minor": 0,
  "metadata": {
    "colab": {
      "provenance": []
    },
    "kernelspec": {
      "name": "python3",
      "display_name": "Python 3"
    },
    "language_info": {
      "name": "python"
    }
  },
  "cells": [
    {
      "cell_type": "code",
      "execution_count": null,
      "metadata": {
        "id": "buj6-CTtOtDR"
      },
      "outputs": [],
      "source": [
        "%pip install --upgrade --quiet  pinecone-client langchain-openai tiktoken langchain"
      ]
    },
    {
      "cell_type": "code",
      "source": [
        "import getpass\n",
        "import os\n",
        "\n",
        "#os.environ[\"PINECONE_API_KEY\"] = getpass.getpass(\"Pinecone API Key:\")\n",
        "os.environ[\"PINECONE_API_KEY\"] =\"..\"\n",
        "os.environ[\"PINECONE_ENV\"] = \"gcp-starter\"\n",
        "os.environ[\"OPENAI_API_KEY\"] = \"sk-..\""
      ],
      "metadata": {
        "id": "DmKddw6hOvJb"
      },
      "execution_count": null,
      "outputs": []
    },
    {
      "cell_type": "code",
      "source": [
        "os.environ[\"PINECONE_ENV\"] = getpass.getpass(\"Pinecone Environment:\")"
      ],
      "metadata": {
        "colab": {
          "base_uri": "https://localhost:8080/"
        },
        "id": "y2FoG-PnOvMS",
        "outputId": "2f85e88e-1aae-4c8e-963b-6b86d169ce3c"
      },
      "execution_count": null,
      "outputs": [
        {
          "name": "stdout",
          "output_type": "stream",
          "text": [
            "Pinecone Environment:··········\n"
          ]
        }
      ]
    },
    {
      "cell_type": "code",
      "source": [
        "os.environ[\"OPENAI_API_KEY\"] = getpass.getpass(\"OpenAI API Key:\")"
      ],
      "metadata": {
        "colab": {
          "base_uri": "https://localhost:8080/"
        },
        "id": "zqUfX-nwOvPy",
        "outputId": "df5bb37b-6426-45e2-9b01-9a21243aff7b"
      },
      "execution_count": null,
      "outputs": [
        {
          "name": "stdout",
          "output_type": "stream",
          "text": [
            "OpenAI API Key:··········\n"
          ]
        }
      ]
    },
    {
      "cell_type": "code",
      "source": [
        "from langchain.text_splitter import CharacterTextSplitter\n",
        "from langchain_community.document_loaders import TextLoader\n",
        "from langchain_community.vectorstores import Pinecone\n",
        "from langchain_openai import OpenAIEmbeddings"
      ],
      "metadata": {
        "id": "xmzomSFkOvS-"
      },
      "execution_count": null,
      "outputs": []
    },
    {
      "cell_type": "code",
      "source": [
        "from langchain_community.document_loaders import TextLoader\n",
        "\n",
        "loader = TextLoader(\"metin2.txt\")\n",
        "documents = loader.load()\n",
        "text_splitter = CharacterTextSplitter(chunk_size=1000, chunk_overlap=0)\n",
        "docs = text_splitter.split_documents(documents)\n",
        "\n",
        "embeddings = OpenAIEmbeddings()"
      ],
      "metadata": {
        "colab": {
          "base_uri": "https://localhost:8080/"
        },
        "id": "1A5Lew6FO0mi",
        "outputId": "558161c8-3ef5-43c8-cfde-aecd654512fd"
      },
      "execution_count": null,
      "outputs": [
        {
          "output_type": "stream",
          "name": "stderr",
          "text": [
            "WARNING:langchain.text_splitter:Created a chunk of size 1480, which is longer than the specified 1000\n"
          ]
        }
      ]
    },
    {
      "cell_type": "code",
      "source": [
        "! pip3 install pinecone-client==2.2.4"
      ],
      "metadata": {
        "id": "cfZfr97VQCrs"
      },
      "execution_count": null,
      "outputs": []
    },
    {
      "cell_type": "code",
      "source": [
        "import pinecone\n",
        "import os\n",
        "\n",
        "index_name = \"aa-index\"\n",
        "\n",
        "# First, check if our index already exists. If it doesn't, we create it\n",
        "if index_name not in pinecone.list_indexes():\n",
        "    # we create a new index\n",
        "    pinecone.create_index(name=index_name, metric=\"cosine\", dimension=1536)\n",
        "# The OpenAI embedding model `text-embedding-ada-002 uses 1536 dimensions`\n",
        "docsearch = Pinecone.from_documents(docs, embeddings, index_name=index_name)\n",
        "\n",
        "# if you already have an index, you can load it like this\n",
        "# docsearch = Pinecone.from_existing_index(index_name, embeddings)\n",
        "\n",
        "query = \"What is the writer this text\"\n",
        "docs = docsearch.similarity_search(query)"
      ],
      "metadata": {
        "id": "gR_ulnpIPSgT"
      },
      "execution_count": null,
      "outputs": []
    },
    {
      "cell_type": "code",
      "source": [
        "docs"
      ],
      "metadata": {
        "id": "nPLvGo93SPnc",
        "outputId": "fa0dbf96-41c0-4cd2-d793-dc92a0165bd1",
        "colab": {
          "base_uri": "https://localhost:8080/"
        }
      },
      "execution_count": null,
      "outputs": [
        {
          "output_type": "execute_result",
          "data": {
            "text/plain": [
              "[Document(page_content=\"Fırlatma Kompleksi 39A'dan gerçekleştirilen başarılı fırlatma işlemiyle Ax-3 mürettebatının 36 saat sürmesi öngörülen uzay yolculuğu başlamıştı.\\nExpedition 70 ekibinden ilk olarak söz alan astronot Andreas Mogensen, uzay istasyonunda görev yapan çeşitli milletlerden astronotların sayısının arttığına işaret ederek “Önümüzdeki iki hafta boyunca uzay istasyonunda yoğun bir çalışma dönemi geçirmeyi dört gözle bekliyoruz.” dedi.\\n\\nAx-3 misyon lideri Michael Lopez-Alegria ise UUİ’de temsil edilen pek çok milletten insan olmasına ilişkin, “Bu durum, UUİ’yi yalnızca diğer uluslara değil, aynı zamanda bireylere ve araştırmacılara da açmak için yapmaya çalıştığımız şeyin gerçekten sembolik bir göstergesi.” değerlendirmesini yaptı.\\n\\nZeynep Katre Oran, Irmak Akcan  |\\nKategori: Gündem - Dünya\\nOluşturulma Tarihi: 20/01/2024\", metadata={'source': 'metin2.txt'}),\n",
              " Document(page_content='Türk, İspanyol-Amerikan, İtalyan ve İsveçli olmak üzere çok uluslu Ax-3 ekibini taşıyan Dragon kapsülünün alçak dünya yörüngesindeki laboratuvar olarak tanımlanan UUİ\\'ye kenetlenme anı, Axiom Space\\'in internet sitesinden canlı yayınlandı.\\nYaklaşık 36 saat süren uzay yolculuğunun ardından ilk Türk astronot Gezeravcı\\'nın da yer aldığı Ax-3 ekibi, ABD yerel saatiyle sabah 05.42 (TSİ 13.42) civarında UUİ\\'ye ulaşt\\nUUİ\\'de bulunan, misyonları 27 Eylül 2023\\'te başlayan Expedition 70 astronot ve kozmonotları , Ax-3 ekibini, istasyonda karşıladı\\nGezeravcı, 2 hafta boyunca uzayda bilimsel çalışmalar yapacak\\nGezeravcı, 14 gün boyunca kalacağı UUİ\\'de 13 farklı bilimsel deney üzerinde çalışacak.\\nBu deneyler, mikro yer çekimi, uzay ortamında insan sağlığı, Tuz Gölü bitkisinin uzay ortamında araştırılması, katı-akışkan karışımların yerçekimsiz ortamda araştırılması gibi alanlarda çeşitlilik gösteriyor.\\nİlk mesaj\\nFırlatma işlemi ardından Ax-3 ile kurulan ilk canlı bağlantıda konuşan Gezeravcı\\'nın uzaydaki ilk sözleri, \"Türkiye\\'nin insanlı ilk uzay misyonu için ilk Türk\\'ün uzaya adım attığı şu anda Yüce Ata\\'mızın sözüyle bu anı başlatmak istiyorum: Türkiye Cumhuriyetimizin kurucusu Mustafa Kemal Atatürk\\'ün dahiyane sözü; İstikbal göklerdedir.\" şeklinde olmuştu.\\nAx-3 ekibini taşıyan uzay aracı başarıyla fırlatılmıştı\\nSpaceX\\'e ait Dragon uzay aracı, ABD yerel saatiyle 18 Ocak 16.49\\'da (TSİ 19 Ocak 00.49) NASA\\'nın Florida\\'daki Kennedy Uzay Merkezi\\'nden başarıyla fırlatılmıştı.', metadata={'source': 'metin2.txt'}),\n",
              " Document(page_content=\"İlk Türk astronot Gezeravcı'nın da yer aldığı Ax-3 ekibi Uluslararası Uzay İstasyonu'nda\", metadata={'source': 'metin2.txt'})]"
            ]
          },
          "metadata": {},
          "execution_count": 22
        }
      ]
    }
  ]
}