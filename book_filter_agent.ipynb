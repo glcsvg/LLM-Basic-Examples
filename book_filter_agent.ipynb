{
 "cells": [
  {
   "cell_type": "code",
   "execution_count": 1,
   "metadata": {},
   "outputs": [],
   "source": [
    "from openai import OpenAI\n",
    "import json\n",
    "\n",
    "\n",
    "api_key = \"sk-proj-\""
   ]
  },
  {
   "cell_type": "code",
   "execution_count": 2,
   "metadata": {},
   "outputs": [],
   "source": [
    "class OpenAIClient:\n",
    "    def __init__(self, api_key):\n",
    "        self.client = OpenAI(api_key=api_key)\n",
    "    \n",
    "    def chat_completion(self, messages):\n",
    "        return self.client.chat.completions.create(\n",
    "            model=\"gpt-3.5-turbo\",  # gpt-3.5-turbo-0613 deprecated\n",
    "            messages=messages)"
   ]
  },
  {
   "cell_type": "code",
   "execution_count": 3,
   "metadata": {},
   "outputs": [],
   "source": [
    "class ConversetionAgent:\n",
    "    def __init__(self,api_key,role) -> None:\n",
    "        self.api_key = api_key\n",
    "        self.role = role\n",
    "        self.conversetion_history = []\n",
    "        self.openai_ = OpenAIClient(api_key=api_key)\n",
    "    \n",
    "    def add_to_conversetion(self,message):\n",
    "        self.conversetion_history.append(message)\n",
    "    \n",
    "    def generate_prompt(self):\n",
    "        prompt = \"The following is a conversation with an AI playing the role of \" + self.role + \".\\n\"\n",
    "        for message in self.conversetion_history:\n",
    "            prompt += message + \".\\n\"\n",
    "        return prompt\n",
    "    \n",
    "    def perfom_task(self,user_message):\n",
    "        self.add_to_conversetion(f\"{user_message}\")\n",
    "        prompt = self.generate_prompt()\n",
    "        messages=[\n",
    "        {\"role\": self.role, \"content\": \"You are a helpful assistant.\"},\n",
    "        {\"role\": \"user\", \"content\": prompt}\n",
    "        ]\n",
    "        print(messages)\n",
    "        response = self.openai_.chat_completion(messages=messages)\n",
    "        #self.add_to_conversetion(f\"AI: {response.choices[0]['message']['content']}\")\n",
    "        print(response)\n",
    "        return response.choices[0].message.content    \n",
    "\n"
   ]
  },
  {
   "cell_type": "code",
   "execution_count": 4,
   "metadata": {},
   "outputs": [],
   "source": [
    "c = ConversetionAgent(api_key,\"assistant\")"
   ]
  },
  {
   "cell_type": "code",
   "execution_count": 7,
   "metadata": {},
   "outputs": [
    {
     "data": {
      "text/plain": [
       "['2 + 5', '+1']"
      ]
     },
     "execution_count": 7,
     "metadata": {},
     "output_type": "execute_result"
    }
   ],
   "source": [
    "c.conversetion_history"
   ]
  },
  {
   "cell_type": "code",
   "execution_count": 6,
   "metadata": {},
   "outputs": [
    {
     "name": "stdout",
     "output_type": "stream",
     "text": [
      "[{'role': 'assistant', 'content': 'You are a helpful assistant.'}, {'role': 'user', 'content': 'The following is a conversation with an AI playing the role of assistant.\\n2 + 5.\\n+1.\\n'}]\n",
      "ChatCompletion(id='chatcmpl-9rodzeeO1SVHyulexLOanJGxjn4tH', choices=[Choice(finish_reason='stop', index=0, logprobs=None, message=ChatCompletionMessage(content='The sum of 2 + 5 is 7. Adding 1 to that would make it 8.', role='assistant', function_call=None, tool_calls=None))], created=1722613087, model='gpt-3.5-turbo-0125', object='chat.completion', service_tier=None, system_fingerprint=None, usage=CompletionUsage(completion_tokens=23, prompt_tokens=39, total_tokens=62))\n"
     ]
    },
    {
     "data": {
      "text/plain": [
       "'The sum of 2 + 5 is 7. Adding 1 to that would make it 8.'"
      ]
     },
     "execution_count": 6,
     "metadata": {},
     "output_type": "execute_result"
    }
   ],
   "source": [
    "c.perfom_task(\"+1\")"
   ]
  },
  {
   "cell_type": "code",
   "execution_count": 1,
   "metadata": {},
   "outputs": [],
   "source": [
    "from openai import OpenAI\n",
    "import json\n",
    "import requests\n",
    "\n",
    "\n",
    "openai_api_key = \"sk-proj-\"\n",
    "google_books_api  = \"\"\n",
    "\n",
    "\n",
    "class OpenAIClient:\n",
    "    def __init__(self, api_key):\n",
    "        self.client = OpenAI(api_key=api_key)\n",
    "    "
   ]
  },
  {
   "cell_type": "code",
   "execution_count": 25,
   "metadata": {},
   "outputs": [],
   "source": [
    "class BookFilterAgent:\n",
    "    def __init__(self):\n",
    "        self.client = OpenAIClient(api_key=openai_api_key)\n",
    "\n",
    "    def detect_language1(self, text):\n",
    "        response = self.client.client.chat.completions.create(\n",
    "            model=\"gpt-3.5-turbo\",\n",
    "            messages=[\n",
    "                {\"role\": \"system\", \"content\": \"You are a language detection assistant.\"},\n",
    "                {\"role\": \"user\", \"content\":  f\"Return detected language code (like 'TR', 'EN', 'FR') of this text: {text}\"}\n",
    "            ],\n",
    "            functions=[\n",
    "                {\n",
    "                    \"name\": \"detect_language_code\",\n",
    "                    \"description\": \"Detects the language code of a given text.\",\n",
    "                    \"parameters\": {\n",
    "                        \"type\": \"object\",\n",
    "                        \"properties\": {\n",
    "                            \"language_code\": {\n",
    "                                \"type\": \"string\",\n",
    "                                \"description\": \"The detected language code.\"\n",
    "                            }\n",
    "                        },\n",
    "                        \"required\": [\"language_code\"]\n",
    "                    }\n",
    "                }\n",
    "            ],\n",
    "            function_call={\"name\": \"detect_language_code\"},\n",
    "            temperature=0\n",
    "        )\n",
    "        response_message = response.choices[0].message\n",
    "        language_code = json.loads(response_message.function_call.arguments)\n",
    "        print(\"language\",language_code)\n",
    "        return language_code\n",
    "    \n",
    "    def detect_language(self, text):\n",
    "        # prompt = (\n",
    "        #     \"You are a language detection assistant. Given the following text, return the detected language code. \"\n",
    "        #     \"Use standard language codes like 'TR' for Turkish, 'EN' for English, 'FR' for French, etc.\\n\"\n",
    "        #     f\"Text: {text}\\n\"\n",
    "        #     \"Language code:\"\n",
    "        # )\n",
    "\n",
    "        response = self.client.client.chat.completions.create(\n",
    "            model=\"gpt-3.5-turbo\",\n",
    "            messages=[\n",
    "                {\"role\": \"system\", \"content\": \"You are a language detection assistant.\"},\n",
    "                {\"role\": \"user\", \"content\":  f\"Return only detected language code (like 'TR', 'EN', 'FR') of this text: {text}\"}\n",
    "            ],\n",
    "        )\n",
    "\n",
    "        response_message = response.choices[0].message\n",
    "        print(\"Detected language code:\", response_message)\n",
    "        return response_message\n"
   ]
  },
  {
   "cell_type": "code",
   "execution_count": 28,
   "metadata": {},
   "outputs": [
    {
     "name": "stdout",
     "output_type": "stream",
     "text": [
      "language {'language_code': 'DE'}\n"
     ]
    },
    {
     "data": {
      "text/plain": [
       "{'language_code': 'DE'}"
      ]
     },
     "execution_count": 28,
     "metadata": {},
     "output_type": "execute_result"
    }
   ],
   "source": [
    "bookagent= BookFilterAgent()\n",
    "text = \"ich bin\"\n",
    "bookagent.detect_language1(text)"
   ]
  }
 ],
 "metadata": {
  "kernelspec": {
   "display_name": "aa",
   "language": "python",
   "name": "python3"
  },
  "language_info": {
   "codemirror_mode": {
    "name": "ipython",
    "version": 3
   },
   "file_extension": ".py",
   "mimetype": "text/x-python",
   "name": "python",
   "nbconvert_exporter": "python",
   "pygments_lexer": "ipython3",
   "version": "3.8.2"
  },
  "orig_nbformat": 4,
  "vscode": {
   "interpreter": {
    "hash": "1e68f48f757f27e07250b73c6151e4820dd2d9b0a7c4f853122bf96447b625da"
   }
  }
 },
 "nbformat": 4,
 "nbformat_minor": 2
}
